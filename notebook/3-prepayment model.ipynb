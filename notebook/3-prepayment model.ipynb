{
 "cells": [
  {
   "cell_type": "markdown",
   "metadata": {},
   "source": [
    "# Prepayment Neural Network\n",
    "\n",
    "Please refer to https://github.com/IBM/bank-lc-sim/blob/master/notebooks/train-on-core-features.ipynb to get the \"co_clf_core.pkl\""
   ]
  },
  {
   "cell_type": "code",
   "execution_count": 36,
   "metadata": {},
   "outputs": [],
   "source": [
    "import pickle, os\n",
    "\n",
    "home_dir = \"../data\"\n",
    "\n",
    "charge_off_classifier_core_pkl = os.path.join(home_dir, \"co_clf_core.pkl\")\n",
    "\n",
    "with open(charge_off_classifier_core_pkl,'rb') as f:\n",
    "    data_df, idx_train, idx_test, idx_validate, clf_core, core_features, analytics = pickle.load(f)"
   ]
  },
  {
   "cell_type": "code",
   "execution_count": 37,
   "metadata": {},
   "outputs": [],
   "source": [
    "import pandas as pd\n",
    "import numpy as np\n",
    "\n",
    "import matplotlib.pyplot as plt\n",
    "import seaborn as sns\n",
    "sns.set_style('whitegrid')\n",
    "import warnings\n",
    "import gc\n",
    "warnings.simplefilter(action='ignore', category=FutureWarning)\n",
    "warnings.simplefilter(action='ignore', category=DeprecationWarning)\n",
    "%matplotlib inline\n",
    "\n",
    "import matplotlib.ticker as tkr\n",
    "from matplotlib import rcParams\n",
    "\n",
    "from sklearn.ensemble import RandomForestClassifier\n",
    "from sklearn.model_selection import cross_val_score, cross_val_predict\n",
    "from sklearn.metrics import accuracy_score, classification_report, confusion_matrix\n",
    "from sklearn.model_selection import train_test_split\n",
    "from sklearn.preprocessing import LabelEncoder\n",
    "\n",
    "import keras\n",
    "import tensorflow as tf\n",
    "from keras.models import Sequential\n",
    "from keras.layers import Dense\n",
    "from keras.utils import to_categorical\n",
    "from imblearn.over_sampling import SMOTE\n",
    "from sklearn.preprocessing import RobustScaler\n",
    "import keras.backend as K\n",
    "from keras.utils import np_utils\n",
    "from tensorflow.keras.callbacks import EarlyStopping\n",
    "early_stopping_monitor = EarlyStopping(patience=2)"
   ]
  },
  {
   "cell_type": "code",
   "execution_count": 38,
   "metadata": {},
   "outputs": [],
   "source": [
    "df_1 = data_df['LifeOfLoan'].loc[data_df['term'] == 0]\n",
    "df_2 = data_df['LifeOfLoan'].loc[data_df['term'] == 1]"
   ]
  },
  {
   "cell_type": "code",
   "execution_count": 39,
   "metadata": {},
   "outputs": [
    {
     "name": "stdout",
     "output_type": "stream",
     "text": [
      "Given 36-month loans, 0.46667321811563445  of them enter their final status within 18 months. \n",
      "Given 36-month loans, 0.48254258357403157  of them enter their final status between 18 and 36 months. \n",
      "Given 36-month loans, 0.05078419831033403  of them enter their final status over 36 months. \n"
     ]
    }
   ],
   "source": [
    "count_1 = 0\n",
    "count_2 = 0\n",
    "count_3 = 0\n",
    "for i in range(len(df_1)):\n",
    "    # print(i)\n",
    "    if df_1.iloc[i] <=18:\n",
    "        count_1 += 1\n",
    "    elif df_1.iloc[i] <=36:\n",
    "        count_2 += 1\n",
    "    else:\n",
    "        count_3 +=1\n",
    "print(\"Given 36-month loans,\",count_1/len(df_1),\" of them enter their final status within 18 months. \")\n",
    "print(\"Given 36-month loans,\",count_2/len(df_1),\" of them enter their final status between 18 and 36 months. \")\n",
    "print(\"Given 36-month loans,\",count_3/len(df_1),\" of them enter their final status over 36 months. \")"
   ]
  },
  {
   "cell_type": "code",
   "execution_count": 40,
   "metadata": {},
   "outputs": [
    {
     "name": "stdout",
     "output_type": "stream",
     "text": [
      "Given 60-month loans, 0.7586002787731436  of them enter their final status within 30 months. \n",
      "Given 60-month loans, 0.2316140201251297  of them enter their final status between 30 and 60 months. \n",
      "Given 60-month loans, 0.009785701101726739  of them enter their final status over 60 months. \n"
     ]
    }
   ],
   "source": [
    "count_1 = 0\n",
    "count_2 = 0\n",
    "count_3 = 0\n",
    "for i in range(len(df_2)):\n",
    "    # print(i)\n",
    "    if df_2.iloc[i] <=30:\n",
    "        count_1 += 1\n",
    "    elif df_2.iloc[i] <=60:\n",
    "        count_2 += 1\n",
    "    else:\n",
    "        count_3 +=1\n",
    "print(\"Given 60-month loans,\",count_1/len(df_2),\" of them enter their final status within 30 months. \")\n",
    "print(\"Given 60-month loans,\",count_2/len(df_2),\" of them enter their final status between 30 and 60 months. \")\n",
    "print(\"Given 60-month loans,\",count_3/len(df_2),\" of them enter their final status over 60 months. \")"
   ]
  },
  {
   "cell_type": "markdown",
   "metadata": {},
   "source": [
    "# Data Visualization"
   ]
  },
  {
   "cell_type": "markdown",
   "metadata": {},
   "source": [
    "## Chronological Output of Prepayment Ratio"
   ]
  },
  {
   "cell_type": "code",
   "execution_count": 42,
   "metadata": {
    "scrolled": true
   },
   "outputs": [
    {
     "name": "stderr",
     "output_type": "stream",
     "text": [
      "/Applications/anaconda3/lib/python3.7/site-packages/ipykernel_launcher.py:4: SettingWithCopyWarning: \n",
      "A value is trying to be set on a copy of a slice from a DataFrame\n",
      "\n",
      "See the caveats in the documentation: http://pandas.pydata.org/pandas-docs/stable/indexing.html#indexing-view-versus-copy\n",
      "  after removing the cwd from sys.path.\n"
     ]
    }
   ],
   "source": [
    "data_df_fully_paid = data_df.loc[data_df['loan_status'].isin(['Fully Paid'])]\n",
    "df_issue_month = data_df_fully_paid['issue_month'].values\n",
    "df_issue_month = np.unique(df_issue_month)\n",
    "data_df_fully_paid.sort_values(by=['issue_month'],ascending=True,inplace=True)"
   ]
  },
  {
   "cell_type": "code",
   "execution_count": 44,
   "metadata": {},
   "outputs": [],
   "source": [
    "ToPrint = []\n",
    "tmp = []\n",
    "for i in df_issue_month:\n",
    "    # print(i)\n",
    "    tmp = data_df_fully_paid.loc[data_df_fully_paid['issue_month']== i]\n",
    "    num_of_loans = tmp.shape[0]\n",
    "\n",
    "    num_of_prepayment = 0\n",
    "    for j in range(len(tmp)):\n",
    "        row_picked = tmp.iloc[j,:]\n",
    "        if row_picked['LifeOfLoan'] != 24*row_picked['term'] + 36:\n",
    "            num_of_prepayment += 1\n",
    "            \n",
    "    prepay_ratio_to_add = num_of_prepayment/num_of_loans\n",
    "    ToPrint.append(prepay_ratio_to_add)"
   ]
  },
  {
   "cell_type": "code",
   "execution_count": 45,
   "metadata": {},
   "outputs": [
    {
     "data": {
      "image/png": "[encoded data removed]",
      "text/plain": [
       "<Figure size 432x288 with 1 Axes>"
      ]
     },
     "metadata": {
      "needs_background": "light"
     },
     "output_type": "display_data"
    }
   ],
   "source": [
    "from datetime import datetime\n",
    "import matplotlib.dates as mdates\n",
    "\n",
    "\n",
    "date_index = pd.date_range(start = '05/31/2007', end = '12/30/2018', freq ='M' )\n",
    "plt.plot(date_index,ToPrint)\n",
    "plt.xlabel(\"Issue Month\")\n",
    "plt.ylabel(\"Prepayment Ratio\")\n",
    "plt.title(\"Prepayment Ratio from Jun-2007 to: Dec-2018\")\n",
    "plt.show()"
   ]
  },
  {
   "cell_type": "markdown",
   "metadata": {},
   "source": [
    "## Number of Issued Loans "
   ]
  },
  {
   "cell_type": "code",
   "execution_count": 46,
   "metadata": {},
   "outputs": [
    {
     "name": "stderr",
     "output_type": "stream",
     "text": [
      "/Applications/anaconda3/lib/python3.7/site-packages/ipykernel_launcher.py:4: SettingWithCopyWarning: \n",
      "A value is trying to be set on a copy of a slice from a DataFrame\n",
      "\n",
      "See the caveats in the documentation: http://pandas.pydata.org/pandas-docs/stable/indexing.html#indexing-view-versus-copy\n",
      "  after removing the cwd from sys.path.\n"
     ]
    }
   ],
   "source": [
    "data_df_charged_off = data_df.loc[data_df['LoanStatus'].isin(['1.0'])]\n",
    "df_issue_month = data_df_charged_off['issue_month'].values\n",
    "df_issue_month = np.unique(df_issue_month)\n",
    "data_df_charged_off.sort_values(by=['issue_month'],ascending=True,inplace=True)"
   ]
  },
  {
   "cell_type": "code",
   "execution_count": 47,
   "metadata": {},
   "outputs": [],
   "source": [
    "ToPrint = []\n",
    "tmp = []\n",
    "check_total = 0\n",
    "for i in df_issue_month:\n",
    "    total_loans_issused = data_df.loc[data_df['issue_month'] == i]\n",
    "    if total_loans_issused.shape[0] == 0:\n",
    "        print(\"No loans issued in month:\", i)\n",
    "        break\n",
    "    num_of_total_loans = total_loans_issused.shape[0]\n",
    "    check_total += num_of_total_loans\n",
    "        \n",
    "    tmp = data_df_charged_off.loc[data_df_charged_off['issue_month'] == i]\n",
    "    num_of_charged_off_loans = tmp.shape[0]\n",
    "    \n",
    "    to_add = [i,num_of_total_loans,num_of_charged_off_loans]\n",
    "    ToPrint.append(to_add)"
   ]
  },
  {
   "cell_type": "code",
   "execution_count": 48,
   "metadata": {},
   "outputs": [
    {
     "data": {
      "image/png": "[encoded data removed]",
      "text/plain": [
       "<Figure size 432x288 with 1 Axes>"
      ]
     },
     "metadata": {
      "needs_background": "light"
     },
     "output_type": "display_data"
    },
    {
     "data": {
      "image/png": "[encoded data removed]",
      "text/plain": [
       "<Figure size 432x288 with 1 Axes>"
      ]
     },
     "metadata": {
      "needs_background": "light"
     },
     "output_type": "display_data"
    },
    {
     "data": {
      "image/png": "[encoded data removed]",
      "text/plain": [
       "<Figure size 432x288 with 1 Axes>"
      ]
     },
     "metadata": {
      "needs_background": "light"
     },
     "output_type": "display_data"
    }
   ],
   "source": [
    "ToPrint_df = pd.DataFrame(ToPrint)\n",
    "date_index = pd.date_range(start = '08/31/2007', end = '11/30/2018', freq ='M' )\n",
    "plt.plot(date_index,ToPrint_df.iloc[:,2]/ToPrint_df.iloc[:,1])\n",
    "plt.xlabel(\"Issued Month\")\n",
    "plt.ylabel(\"The Ratio of Charged-off Loans to total loans\")\n",
    "plt.title(\"The Ratio of Charged-off Loans to total loans vs Issued Month\")\n",
    "plt.show()\n",
    "\n",
    "plt.plot(date_index,ToPrint_df.iloc[:,2])\n",
    "plt.xlabel(\"Issued Month\")\n",
    "plt.ylabel(\"Total Number of Charged-off Loans\")\n",
    "plt.title(\"Total Number of Charged-off Loans vs Issued Month\")\n",
    "plt.show()\n",
    "\n",
    "plt.plot(date_index,ToPrint_df.iloc[:,1])\n",
    "plt.xlabel(\"Issued Month\")\n",
    "plt.ylabel(\"Total Number of Issue Loans\")\n",
    "plt.title(\"Total Number of Issue Loans vs Issued Month\")\n",
    "plt.show()"
   ]
  },
  {
   "cell_type": "markdown",
   "metadata": {},
   "source": [
    "# Minimum Features"
   ]
  },
  {
   "cell_type": "markdown",
   "metadata": {},
   "source": [
    "Feb 25th. Do not consider the interest change."
   ]
  },
  {
   "cell_type": "code",
   "execution_count": 49,
   "metadata": {},
   "outputs": [],
   "source": [
    "import pandas as pd\n",
    "import keras\n",
    "import numpy as np\n",
    "import matplotlib.pyplot as plt\n",
    "import tensorflow as tf\n",
    "from keras.models import Sequential\n",
    "from keras.layers import Dense\n",
    "from sklearn.model_selection import train_test_split\n",
    "from keras.utils import to_categorical\n",
    "from imblearn.over_sampling import SMOTE\n",
    "from sklearn.preprocessing import RobustScaler\n",
    "import keras.backend as K\n",
    "from sklearn.preprocessing import LabelEncoder\n",
    "from keras.utils import np_utils\n",
    "from tensorflow.keras.callbacks import EarlyStopping\n",
    "early_stopping_monitor = EarlyStopping(patience=2)"
   ]
  },
  {
   "cell_type": "markdown",
   "metadata": {},
   "source": [
    "### Remarks: For convenience, we did some data cleaning and generate another back-up file.  You need to redirect to \"../data/data_df_backup\" for the backup csv file."
   ]
  },
  {
   "cell_type": "code",
   "execution_count": 66,
   "metadata": {},
   "outputs": [],
   "source": [
    "data_df = pd.read_csv(\"../data/data_df_backup.csv\")"
   ]
  },
  {
   "cell_type": "code",
   "execution_count": 67,
   "metadata": {},
   "outputs": [],
   "source": [
    "LifeOfLoan = data_df['LifeOfLoan'].unique()"
   ]
  },
  {
   "cell_type": "code",
   "execution_count": 68,
   "metadata": {},
   "outputs": [],
   "source": [
    "features_to_delete = []\n",
    "count = 0\n",
    "for i in range(data_df.shape[1]):\n",
    "    if data_df.iloc[:,i].dtype != \"float64\":\n",
    "        features_to_delete.append(data_df.iloc[:,i].name)\n",
    "        count += 1\n",
    "        # print(count)"
   ]
  },
  {
   "cell_type": "code",
   "execution_count": 69,
   "metadata": {},
   "outputs": [],
   "source": [
    "minimal_feature = ['loan_amnt', 'term', 'emp_length', 'annual_inc', 'dti', \\\n",
    "                   'earliest_cr_line_age', 'home_ownership_ANY', 'home_ownership_MORTGAGE',\\\n",
    "                   'home_ownership_NONE', 'home_ownership_OTHER', 'home_ownership_OWN', 'home_ownership_RENT', \\\n",
    "                   'verification_status_Not Verified', 'verification_status_Source Verified', 'verification_status_Verified', \\\n",
    "                   'purpose_car', 'purpose_credit_card', 'purpose_debt_consolidation', 'purpose_educational', \\\n",
    "                   'purpose_home_improvement', 'purpose_house', 'purpose_major_purchase', 'purpose_medical', 'purpose_moving', \\\n",
    "                   'purpose_other', 'purpose_renewable_energy', 'purpose_small_business', 'purpose_vacation', 'purpose_wedding',\\\n",
    "                   'LifeOfLoan']"
   ]
  },
  {
   "cell_type": "code",
   "execution_count": 70,
   "metadata": {},
   "outputs": [],
   "source": [
    "features_to_delete = []\n",
    "count = 0\n",
    "for i in range(data_df.shape[1]):\n",
    "    if data_df.iloc[:,i].dtype != \"float64\":\n",
    "        features_to_delete.append(data_df.iloc[:,i].name)\n",
    "        count += 1"
   ]
  },
  {
   "cell_type": "code",
   "execution_count": 71,
   "metadata": {},
   "outputs": [],
   "source": [
    "df_36m=data_df[ data_df['term'].isin([0.0]) ]\n",
    "df_60m=data_df[ data_df['term'].isin([1.0]) ]\n",
    "data_df_36m_minimal = df_36m.loc[:,minimal_feature]\n",
    "data_df_60m_minimal = df_60m.loc[:,minimal_feature]"
   ]
  },
  {
   "cell_type": "code",
   "execution_count": 72,
   "metadata": {},
   "outputs": [
    {
     "data": {
      "text/plain": [
       "(987059, 30)"
      ]
     },
     "execution_count": 72,
     "metadata": {},
     "output_type": "execute_result"
    }
   ],
   "source": [
    "data_df_36m_minimal.shape"
   ]
  },
  {
   "cell_type": "code",
   "execution_count": 73,
   "metadata": {},
   "outputs": [],
   "source": [
    "y1 = data_df_36m_minimal['LifeOfLoan'].values\n",
    "y2 = data_df_60m_minimal['LifeOfLoan'].values\n",
    "\n",
    "for i in range(len(y1)):\n",
    "    if float(y1[i]) <= 18:\n",
    "        y1[i] = 0\n",
    "    elif float(y1[i]) <= 36:\n",
    "        y1[i] = 1\n",
    "    else:\n",
    "        y1[i] = 2\n",
    "\n",
    "\n",
    "for i in range(len(y2)):\n",
    "    if float(y2[i]) <= 30:\n",
    "        y2[i] = 0\n",
    "    elif float(y2[i]) <= 60:\n",
    "        y2[i] = 1\n",
    "    else:\n",
    "        y2[i] = 2"
   ]
  },
  {
   "cell_type": "code",
   "execution_count": 74,
   "metadata": {},
   "outputs": [],
   "source": [
    "y_36m_minimal = pd.DataFrame(y1)\n",
    "y_60m_minimal = pd.DataFrame(y2)"
   ]
  },
  {
   "cell_type": "markdown",
   "metadata": {},
   "source": [
    "Remarks : Drop X index: X->array->dataframe"
   ]
  },
  {
   "cell_type": "code",
   "execution_count": 75,
   "metadata": {},
   "outputs": [
    {
     "name": "stdout",
     "output_type": "stream",
     "text": [
      "Size of 36m (987059, 29)\n"
     ]
    }
   ],
   "source": [
    "X_36m_minimal = data_df_36m_minimal.drop('LifeOfLoan',axis = 1)\n",
    "X_36m_minimal = X_36m_minimal.values\n",
    "X_36m_minimal = pd.DataFrame(X_36m_minimal)\n",
    "print(\"Size of 36m\",X_36m_minimal.shape)\n",
    "# y_36m_minimal is given above.\n",
    "X_train_36m, X_test_36m, y_train_36m, y_test_36m = train_test_split(X_36m_minimal, y_36m_minimal, test_size=0.2,random_state = 42)"
   ]
  },
  {
   "cell_type": "code",
   "execution_count": 76,
   "metadata": {
    "scrolled": true
   },
   "outputs": [],
   "source": [
    "encoder = LabelEncoder()\n",
    "encoder.fit(y_train_36m)\n",
    "encoder_y_36m = encoder.transform(y_train_36m)\n",
    "dummy_y_36m = np_utils.to_categorical(encoder_y_36m)"
   ]
  },
  {
   "cell_type": "code",
   "execution_count": 77,
   "metadata": {},
   "outputs": [
    {
     "name": "stdout",
     "output_type": "stream",
     "text": [
      "Size of 60m (314234, 29)\n"
     ]
    }
   ],
   "source": [
    "X_60m_minimal = data_df_60m_minimal.drop('LifeOfLoan',axis = 1)\n",
    "X_60m_minimal = X_60m_minimal.values\n",
    "X_60m_minimal = pd.DataFrame(X_60m_minimal)\n",
    "print(\"Size of 60m\",X_60m_minimal.shape)\n",
    "# y_36m_minimal is given above.\n",
    "X_train_60m, X_test_60m, y_train_60m, y_test_60m = train_test_split(X_60m_minimal, y_60m_minimal, test_size=0.2,random_state = 42)"
   ]
  },
  {
   "cell_type": "code",
   "execution_count": 78,
   "metadata": {},
   "outputs": [],
   "source": [
    "encoder = LabelEncoder()\n",
    "encoder.fit(y_train_60m)\n",
    "encoder_y_60m = encoder.transform(y_train_60m)\n",
    "dummy_y_60m = np_utils.to_categorical(encoder_y_60m)"
   ]
  },
  {
   "cell_type": "code",
   "execution_count": 79,
   "metadata": {},
   "outputs": [
    {
     "name": "stdout",
     "output_type": "stream",
     "text": [
      "Train on 631717 samples, validate on 157930 samples\n",
      "Epoch 1/5\n",
      "631717/631717 [==============================] - 19s 30us/step - loss: nan - acc: 0.4663 - val_loss: nan - val_acc: 0.4670\n",
      "Epoch 2/5\n",
      "631717/631717 [==============================] - 18s 29us/step - loss: nan - acc: 0.4663 - val_loss: nan - val_acc: 0.4670\n"
     ]
    },
    {
     "data": {
      "text/plain": [
       "<keras.callbacks.History at 0x17681d390>"
      ]
     },
     "execution_count": 79,
     "metadata": {},
     "output_type": "execute_result"
    }
   ],
   "source": [
    "model_36m = Sequential()\n",
    "model_36m.add(Dense(128, input_dim=29, activation=\"relu\")) \n",
    "model_36m.add(Dense(64,   activation=\"tanh\"))\n",
    "model_36m.add(Dense(32,  activation = 'tanh'))\n",
    "model_36m.add(Dense(3,  activation = 'softmax'))\n",
    "model_36m.compile(loss='categorical_crossentropy', optimizer=\"adam\", metrics=['accuracy'])\n",
    "model_36m.fit(X_train_36m,dummy_y_36m,epochs = 5, validation_split = .2,callbacks = [early_stopping_monitor])"
   ]
  },
  {
   "cell_type": "code",
   "execution_count": 80,
   "metadata": {},
   "outputs": [
    {
     "name": "stdout",
     "output_type": "stream",
     "text": [
      "Train on 201109 samples, validate on 50278 samples\n",
      "Epoch 1/5\n",
      "201109/201109 [==============================] - 6s 31us/step - loss: nan - acc: 0.7590 - val_loss: nan - val_acc: 0.7561\n",
      "Epoch 2/5\n",
      "201109/201109 [==============================] - 6s 29us/step - loss: nan - acc: 0.7590 - val_loss: nan - val_acc: 0.7561\n"
     ]
    },
    {
     "data": {
      "text/plain": [
       "<keras.callbacks.History at 0x11fce5d68>"
      ]
     },
     "execution_count": 80,
     "metadata": {},
     "output_type": "execute_result"
    }
   ],
   "source": [
    "model_60m = Sequential()\n",
    "model_60m.add(Dense(128, input_dim=29, activation=\"relu\")) \n",
    "model_60m.add(Dense(64,   activation=\"relu\"))\n",
    "model_60m.add(Dense(32,  activation = 'relu'))\n",
    "model_60m.add(Dense(3,  activation = 'softmax'))\n",
    "model_60m.compile(loss='categorical_crossentropy', optimizer=\"adam\", metrics=['accuracy'])\n",
    "model_60m.fit(X_train_60m,dummy_y_60m,epochs = 5, validation_split = .2,callbacks = [early_stopping_monitor])"
   ]
  },
  {
   "cell_type": "code",
   "execution_count": null,
   "metadata": {},
   "outputs": [],
   "source": []
  }
 ],
 "metadata": {
  "kernelspec": {
   "display_name": "Python 3",
   "language": "python",
   "name": "python3"
  },
  "language_info": {
   "codemirror_mode": {
    "name": "ipython",
    "version": 3
   },
   "file_extension": ".py",
   "mimetype": "text/x-python",
   "name": "python",
   "nbconvert_exporter": "python",
   "pygments_lexer": "ipython3",
   "version": "3.7.3"
  }
 },
 "nbformat": 4,
 "nbformat_minor": 2
}
